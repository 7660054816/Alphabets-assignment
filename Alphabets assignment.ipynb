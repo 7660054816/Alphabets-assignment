{
 "cells": [
  {
   "cell_type": "code",
   "execution_count": 1,
   "id": "187b8ce8",
   "metadata": {},
   "outputs": [
    {
     "name": "stdout",
     "output_type": "stream",
     "text": [
      "*****\n",
      "*   *\n",
      "*****\n",
      "*   *\n"
     ]
    }
   ],
   "source": [
    "a=1\n",
    "while a<5:\n",
    "    if a==1:\n",
    "        print(\"*****\")\n",
    "    elif a==2:\n",
    "        print(\"*   *\")\n",
    "    elif a==3:\n",
    "        print(\"*****\")\n",
    "    elif a==4:\n",
    "        print(\"*   *\")\n",
    "    elif a==5:\n",
    "        print(\"*   *\")\n",
    "    a=a+1"
   ]
  },
  {
   "cell_type": "code",
   "execution_count": 5,
   "id": "1394e360",
   "metadata": {},
   "outputs": [
    {
     "name": "stdout",
     "output_type": "stream",
     "text": [
      "*****\n",
      "*   *\n",
      "*****\n",
      "*   *\n",
      "*****\n"
     ]
    }
   ],
   "source": [
    "a=1\n",
    "while a<=5:\n",
    "    if a==1:\n",
    "        print(\"*****\")\n",
    "    elif a==2:\n",
    "        print(\"*   *\")\n",
    "    elif a==3:\n",
    "        print(\"*****\")\n",
    "    elif a==4:\n",
    "        print(\"*   *\")\n",
    "    elif a==5:\n",
    "        print(\"*****\")\n",
    "    a=a+1"
   ]
  },
  {
   "cell_type": "code",
   "execution_count": 10,
   "id": "0464bfe6",
   "metadata": {},
   "outputs": [
    {
     "name": "stdout",
     "output_type": "stream",
     "text": [
      "*****\n",
      "*    \n",
      "*    \n",
      "*    \n",
      "*****\n"
     ]
    }
   ],
   "source": [
    "a=1\n",
    "while a<=5:\n",
    "    if a==1:\n",
    "        print(\"*****\")\n",
    "    elif a==2:\n",
    "        print(\"*    \")\n",
    "    elif a==3:\n",
    "        print(\"*    \")\n",
    "    elif a==4:\n",
    "        print(\"*    \")\n",
    "    elif a==5:\n",
    "        print(\"*****\")\n",
    "    a=a+1"
   ]
  },
  {
   "cell_type": "code",
   "execution_count": 11,
   "id": "b20ff5fd",
   "metadata": {},
   "outputs": [
    {
     "name": "stdout",
     "output_type": "stream",
     "text": [
      "*****\n",
      "*   *\n",
      "*   *\n",
      "*   *\n",
      "*****\n"
     ]
    }
   ],
   "source": [
    "a=1\n",
    "while a<=5:\n",
    "    if a==1:\n",
    "        print(\"*****\")\n",
    "    elif a==2:\n",
    "        print(\"*   *\")\n",
    "    elif a==3:\n",
    "        print(\"*   *\")\n",
    "    elif a==4:\n",
    "        print(\"*   *\")\n",
    "    elif a==5:\n",
    "        print(\"*****\")\n",
    "    a=a+1"
   ]
  },
  {
   "cell_type": "code",
   "execution_count": 12,
   "id": "b0fffb51",
   "metadata": {},
   "outputs": [
    {
     "name": "stdout",
     "output_type": "stream",
     "text": [
      "*****\n",
      "*    \n",
      "*****\n",
      "*    \n",
      "*****\n"
     ]
    }
   ],
   "source": [
    "a=1\n",
    "while a<=5:\n",
    "    if a==1:\n",
    "        print(\"*****\")\n",
    "    elif a==2:\n",
    "        print(\"*    \")\n",
    "    elif a==3:\n",
    "        print(\"*****\")\n",
    "    elif a==4:\n",
    "        print(\"*    \")\n",
    "    elif a==5:\n",
    "        print(\"*****\")\n",
    "    a=a+1"
   ]
  },
  {
   "cell_type": "code",
   "execution_count": 10,
   "id": "393bda63",
   "metadata": {},
   "outputs": [
    {
     "name": "stdout",
     "output_type": "stream",
     "text": [
      "*****\n",
      "*    \n",
      "*****\n",
      "*    \n",
      "*    \n"
     ]
    }
   ],
   "source": [
    "a=1\n",
    "while a<=5:\n",
    "    if a==1:\n",
    "        print(\"*****\")\n",
    "    elif a==2:\n",
    "        print(\"*    \")\n",
    "    elif a==3:\n",
    "        print(\"*****\")\n",
    "    elif a==4:\n",
    "        print(\"*    \")\n",
    "    elif a==5:\n",
    "        print(\"*    \")\n",
    "    a=a+1"
   ]
  },
  {
   "cell_type": "code",
   "execution_count": 18,
   "id": "531e3b36",
   "metadata": {},
   "outputs": [
    {
     "name": "stdout",
     "output_type": "stream",
     "text": [
      "*****\n",
      "*    \n",
      "* * *\n",
      "* * *\n",
      "*** *\n"
     ]
    }
   ],
   "source": [
    "a=1\n",
    "while a<=5:\n",
    "    if a==1:\n",
    "        print(\"*****\")\n",
    "    elif a==2:\n",
    "        print(\"*    \")\n",
    "    elif a==3:\n",
    "        print(\"* * *\")\n",
    "    elif a==4:\n",
    "        print(\"* * *\")\n",
    "    elif a==5:\n",
    "        print(\"*** *\")\n",
    "    a=a+1\n",
    "    "
   ]
  },
  {
   "cell_type": "code",
   "execution_count": 13,
   "id": "17fc1954",
   "metadata": {},
   "outputs": [
    {
     "name": "stdout",
     "output_type": "stream",
     "text": [
      "*   *\n",
      "*   *\n",
      "*****\n",
      "*   *\n",
      "*   *\n"
     ]
    }
   ],
   "source": [
    "a=1\n",
    "while a<=5:\n",
    "    if a==1:\n",
    "        print(\"*   *\")\n",
    "    elif a==2:\n",
    "        print(\"*   *\")\n",
    "    elif a==3:\n",
    "        print(\"*****\")\n",
    "    elif a==4:\n",
    "        print(\"*   *\")\n",
    "    elif a==5:\n",
    "        print(\"*   *\")\n",
    "    a=a+1"
   ]
  },
  {
   "cell_type": "code",
   "execution_count": 21,
   "id": "35b25920",
   "metadata": {},
   "outputs": [
    {
     "name": "stdout",
     "output_type": "stream",
     "text": [
      "*****\n",
      "  *  \n",
      "  *  \n",
      "  *  \n",
      "*****\n"
     ]
    }
   ],
   "source": [
    "a=1\n",
    "while a<=5:\n",
    "    if a==1:\n",
    "        print(\"*****\")\n",
    "    elif a<=2:\n",
    "        print(\"  *  \")\n",
    "    elif a<=3:\n",
    "        print(\"  *  \")\n",
    "    elif a<=4:\n",
    "        print(\"  *  \")\n",
    "    elif a<=5:\n",
    "        print(\"*****\")\n",
    "    a=a+1"
   ]
  },
  {
   "cell_type": "code",
   "execution_count": 1,
   "id": "2fafdba1",
   "metadata": {},
   "outputs": [
    {
     "name": "stdout",
     "output_type": "stream",
     "text": [
      "*****\n",
      "  *  \n",
      "  *  \n",
      "  *  \n",
      "***  \n"
     ]
    }
   ],
   "source": [
    "a=1\n",
    "while a<=5:\n",
    "    if a<=1:\n",
    "        print(\"*****\")\n",
    "    elif a<=2:\n",
    "        print(\"  *  \")\n",
    "    elif a<=3:\n",
    "        print(\"  *  \")\n",
    "    elif a<=4:\n",
    "        print(\"  *  \")\n",
    "    elif a<=5:\n",
    "        print(\"***  \")\n",
    "    a=a+1"
   ]
  },
  {
   "cell_type": "code",
   "execution_count": 2,
   "id": "53179349",
   "metadata": {},
   "outputs": [
    {
     "name": "stdout",
     "output_type": "stream",
     "text": [
      "*  * \n",
      "* *  \n",
      "**   \n",
      "* *  \n",
      "*  * \n"
     ]
    }
   ],
   "source": [
    "a=1\n",
    "while a<=5:\n",
    "    if a<=1:\n",
    "        print(\"*  * \")\n",
    "    elif a<=2:\n",
    "        print(\"* *  \")\n",
    "    elif a<=3:\n",
    "        print(\"**   \")\n",
    "    elif a<=4:\n",
    "        print(\"* *  \")\n",
    "    elif a<=5:\n",
    "        print(\"*  * \")\n",
    "    a=a+1"
   ]
  },
  {
   "cell_type": "code",
   "execution_count": 3,
   "id": "8a4991d4",
   "metadata": {},
   "outputs": [
    {
     "name": "stdout",
     "output_type": "stream",
     "text": [
      "*    \n",
      "*    \n",
      "*    \n",
      "*    \n",
      "*****\n"
     ]
    }
   ],
   "source": [
    "a=1\n",
    "while a<=5:\n",
    "    if a<=1:\n",
    "        print(\"*    \")\n",
    "    elif a<=2:\n",
    "        print(\"*    \")\n",
    "    elif a<=3:\n",
    "        print(\"*    \")\n",
    "    elif a<=4:\n",
    "        print(\"*    \")\n",
    "    elif a<=5:\n",
    "        print(\"*****\")\n",
    "    a=a+1"
   ]
  },
  {
   "cell_type": "code",
   "execution_count": 5,
   "id": "e313eafa",
   "metadata": {},
   "outputs": [
    {
     "name": "stdout",
     "output_type": "stream",
     "text": [
      "*     *\n",
      "*  *  *\n",
      "*     *\n",
      "*     *\n",
      "*     *\n"
     ]
    }
   ],
   "source": [
    "a=1\n",
    "while a<=5:\n",
    "    if a<=1:\n",
    "        print(\"*     *\")\n",
    "    elif a<=2:\n",
    "        print(\"*  *  *\")\n",
    "    elif a<=3:\n",
    "        print(\"*     *\")\n",
    "    elif a<=4:\n",
    "        print(\"*     *\")\n",
    "    elif a<=5:\n",
    "        print(\"*     *\")\n",
    "    a=a+1"
   ]
  },
  {
   "cell_type": "code",
   "execution_count": 7,
   "id": "325c115e",
   "metadata": {},
   "outputs": [
    {
     "name": "stdout",
     "output_type": "stream",
     "text": [
      "*   *\n",
      "**  *\n",
      "* * *\n",
      "*  * \n",
      "*   *\n"
     ]
    }
   ],
   "source": [
    "a=1\n",
    "while a<=5:\n",
    "    if a<=1:\n",
    "        print(\"*   *\")\n",
    "    elif a<=2:\n",
    "        print(\"**  *\")\n",
    "    elif a<=3:\n",
    "        print(\"* * *\")\n",
    "    elif a<=4:\n",
    "        print(\"*  * \")\n",
    "    elif a<=5:\n",
    "        print(\"*   *\")\n",
    "    a=a+1"
   ]
  },
  {
   "cell_type": "code",
   "execution_count": 8,
   "id": "fbeaf272",
   "metadata": {},
   "outputs": [
    {
     "name": "stdout",
     "output_type": "stream",
     "text": [
      "*****\n",
      "*   *\n",
      "*   *\n",
      "*   *\n",
      "*****\n"
     ]
    }
   ],
   "source": [
    "a=1\n",
    "while a<=5:\n",
    "    if a<=1:\n",
    "        print(\"*****\")\n",
    "    elif a<=2:\n",
    "        print(\"*   *\")\n",
    "    elif a<=3:\n",
    "        print(\"*   *\")\n",
    "    elif a<=4:\n",
    "        print(\"*   *\")\n",
    "    elif a<=5:\n",
    "        print(\"*****\")\n",
    "    a=a+1\n"
   ]
  },
  {
   "cell_type": "code",
   "execution_count": 9,
   "id": "98647677",
   "metadata": {},
   "outputs": [
    {
     "name": "stdout",
     "output_type": "stream",
     "text": [
      "*****\n",
      "*   *\n",
      "*****\n",
      "*    \n",
      "*    \n"
     ]
    }
   ],
   "source": [
    "a=1\n",
    "while a<=5:\n",
    "    if a<=1:\n",
    "        print(\"*****\")\n",
    "    elif a<=2:\n",
    "        print(\"*   *\")\n",
    "    elif a<=3:\n",
    "        print(\"*****\")\n",
    "    elif a<=4:\n",
    "        print(\"*    \")\n",
    "    elif a<=5:\n",
    "        print(\"*    \")\n",
    "    a=a+1"
   ]
  },
  {
   "cell_type": "code",
   "execution_count": 10,
   "id": "df1ed13b",
   "metadata": {},
   "outputs": [
    {
     "name": "stdout",
     "output_type": "stream",
     "text": [
      " *** \n",
      "*   *\n",
      "* * *\n",
      " *** \n",
      "    *\n"
     ]
    }
   ],
   "source": [
    "a=1\n",
    "while a<=5:\n",
    "    if a<=1:\n",
    "        print(\" *** \")\n",
    "    elif a<=2:\n",
    "        print(\"*   *\")\n",
    "    elif a<=3:\n",
    "        print(\"* * *\")\n",
    "    elif a<=4:\n",
    "        print(\" *** \")\n",
    "    elif a<=5:\n",
    "        print(\"    *\")\n",
    "    a=a+1"
   ]
  },
  {
   "cell_type": "code",
   "execution_count": 16,
   "id": "bca1fe42",
   "metadata": {},
   "outputs": [
    {
     "name": "stdout",
     "output_type": "stream",
     "text": [
      "*****\n",
      "*   *\n",
      "*****\n",
      "**   \n",
      "*  * \n",
      "*   *\n"
     ]
    }
   ],
   "source": [
    "a=1\n",
    "while a<=6:\n",
    "    if a<=1:\n",
    "        print(\"*****\")\n",
    "    elif a<=2:\n",
    "        print(\"*   *\")\n",
    "    elif a<=3:\n",
    "        print(\"*****\")\n",
    "    elif a<=4:\n",
    "        print(\"**   \")\n",
    "    elif a<=5:\n",
    "        print(\"*  * \")\n",
    "    elif a<=6:\n",
    "        print(\"*   *\")\n",
    "    a=a+1"
   ]
  },
  {
   "cell_type": "code",
   "execution_count": 18,
   "id": "a565524f",
   "metadata": {},
   "outputs": [
    {
     "name": "stdout",
     "output_type": "stream",
     "text": [
      "*****\n",
      "*    \n",
      "*****\n",
      "    *\n",
      "*****\n"
     ]
    }
   ],
   "source": [
    "a=1\n",
    "while a<=5:\n",
    "    if a<=1:\n",
    "        print(\"*****\")\n",
    "    elif a<=2:\n",
    "        print(\"*    \")\n",
    "    elif a<=3:\n",
    "        print(\"*****\")\n",
    "    elif a<=4:\n",
    "        print(\"    *\")\n",
    "    elif a<=5:\n",
    "        print(\"*****\")\n",
    "    a=a+1"
   ]
  },
  {
   "cell_type": "code",
   "execution_count": 1,
   "id": "f186cb77",
   "metadata": {},
   "outputs": [
    {
     "name": "stdout",
     "output_type": "stream",
     "text": [
      "*****\n",
      "  *  \n",
      "  *  \n",
      "  *  \n",
      "  *  \n"
     ]
    }
   ],
   "source": [
    "a=1\n",
    "while a<=5:\n",
    "    if a<=1:\n",
    "        print(\"*****\")\n",
    "    elif a<=2:\n",
    "        print(\"  *  \")\n",
    "    elif a<=3:\n",
    "        print(\"  *  \")\n",
    "    elif a<=4:\n",
    "        print(\"  *  \")\n",
    "    elif a<=5:\n",
    "        print(\"  *  \")\n",
    "    a=a+1"
   ]
  },
  {
   "cell_type": "code",
   "execution_count": 3,
   "id": "55734719",
   "metadata": {},
   "outputs": [
    {
     "name": "stdout",
     "output_type": "stream",
     "text": [
      "*   *\n",
      "*   *\n",
      "*   *\n",
      "*   *\n",
      "*****\n"
     ]
    }
   ],
   "source": [
    "a=1\n",
    "while a<=5:\n",
    "    if a<=1:\n",
    "        print(\"*   *\")\n",
    "    elif a<=2:\n",
    "        print(\"*   *\")\n",
    "    elif a<=3:\n",
    "        print(\"*   *\")\n",
    "    elif a<=4:\n",
    "        print(\"*   *\")\n",
    "    elif a<=5:\n",
    "        print(\"*****\")\n",
    "    a=a+1"
   ]
  },
  {
   "cell_type": "code",
   "execution_count": 4,
   "id": "d7e6bb68",
   "metadata": {},
   "outputs": [
    {
     "name": "stdout",
     "output_type": "stream",
     "text": [
      "*   *\n",
      "*   *\n",
      "*   *\n",
      " **  \n"
     ]
    }
   ],
   "source": [
    "a=1\n",
    "while a<=5:\n",
    "    if a<=1:\n",
    "        print(\"*   *\")\n",
    "    elif a<=2:\n",
    "        print(\"*   *\")\n",
    "    elif a<=3:\n",
    "        print(\"*   *\")\n",
    "    elif a<4:\n",
    "        print(\"*   *\")\n",
    "    elif a<5:\n",
    "        print(\" **  \")\n",
    "    a=a+1"
   ]
  },
  {
   "cell_type": "code",
   "execution_count": 5,
   "id": "4a016e2f",
   "metadata": {},
   "outputs": [
    {
     "name": "stdout",
     "output_type": "stream",
     "text": [
      "*   *\n",
      "*   *\n",
      "*   *\n",
      "* * *\n",
      "*   *\n"
     ]
    }
   ],
   "source": [
    "a=1\n",
    "while a<=5:\n",
    "    if a<=1:\n",
    "        print(\"*   *\")\n",
    "    elif a<=2:\n",
    "        print(\"*   *\")\n",
    "    elif a<=3:\n",
    "        print(\"*   *\")\n",
    "    elif a<=4:\n",
    "        print(\"* * *\")\n",
    "    elif a<=5:\n",
    "        print(\"*   *\")\n",
    "    a=a+1"
   ]
  },
  {
   "cell_type": "code",
   "execution_count": 6,
   "id": "84c14ea7",
   "metadata": {},
   "outputs": [
    {
     "name": "stdout",
     "output_type": "stream",
     "text": [
      "*   *\n",
      " * * \n",
      "  *  \n",
      " * * \n",
      "*   *\n"
     ]
    }
   ],
   "source": [
    "a=1\n",
    "while a<=5:\n",
    "    if a<=1:\n",
    "        print(\"*   *\")\n",
    "    elif a<=2:\n",
    "        print(\" * * \")\n",
    "    elif a<=3:\n",
    "        print(\"  *  \")\n",
    "    elif a<=4:\n",
    "        print(\" * * \")\n",
    "    elif a<=5:\n",
    "        print(\"*   *\")\n",
    "    a=a+1"
   ]
  },
  {
   "cell_type": "code",
   "execution_count": 7,
   "id": "977bc31b",
   "metadata": {},
   "outputs": [
    {
     "name": "stdout",
     "output_type": "stream",
     "text": [
      "*   *\n",
      " * * \n",
      "  *  \n",
      " *   \n",
      "*    \n"
     ]
    }
   ],
   "source": [
    "a=1\n",
    "while a<=5:\n",
    "    if a<=1:\n",
    "        print(\"*   *\")\n",
    "    elif a<=2:\n",
    "        print(\" * * \")\n",
    "    elif a<=3:\n",
    "        print(\"  *  \")\n",
    "    elif a<=4:\n",
    "        print(\" *   \")\n",
    "    elif a<=5:\n",
    "        print(\"*    \")\n",
    "    a=a+1"
   ]
  },
  {
   "cell_type": "code",
   "execution_count": 9,
   "id": "9845fac0",
   "metadata": {},
   "outputs": [
    {
     "name": "stdout",
     "output_type": "stream",
     "text": [
      "*****\n",
      "   * \n",
      "  *  \n",
      " *   \n",
      "*****\n"
     ]
    }
   ],
   "source": [
    "a=1\n",
    "while a<=5:\n",
    "    if a<=1:\n",
    "        print(\"*****\")\n",
    "    elif a<=2:\n",
    "        print(\"   * \")\n",
    "    elif a<=3:\n",
    "        print(\"  *  \")\n",
    "    elif a<=4:\n",
    "        print(\" *   \")\n",
    "    elif a<=5:\n",
    "        print(\"*****\")\n",
    "    a=a+1"
   ]
  },
  {
   "cell_type": "code",
   "execution_count": null,
   "id": "3664261a",
   "metadata": {},
   "outputs": [],
   "source": []
  }
 ],
 "metadata": {
  "kernelspec": {
   "display_name": "Python 3 (ipykernel)",
   "language": "python",
   "name": "python3"
  },
  "language_info": {
   "codemirror_mode": {
    "name": "ipython",
    "version": 3
   },
   "file_extension": ".py",
   "mimetype": "text/x-python",
   "name": "python",
   "nbconvert_exporter": "python",
   "pygments_lexer": "ipython3",
   "version": "3.9.13"
  }
 },
 "nbformat": 4,
 "nbformat_minor": 5
}
